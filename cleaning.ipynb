{
 "cells": [
  {
   "cell_type": "code",
   "execution_count": 6,
   "metadata": {},
   "outputs": [],
   "source": [
    "# import libraries \n",
    "import pandas as pd\n",
    "import numpy as np\n",
    "import re\n",
    "\n",
    "# Fix date values\n",
    "from datetime import datetime, timedelta"
   ]
  },
  {
   "cell_type": "code",
   "execution_count": 7,
   "metadata": {},
   "outputs": [],
   "source": [
    "# Read data\n",
    "df = pd.read_csv('job_data.csv')"
   ]
  },
  {
   "cell_type": "code",
   "execution_count": 8,
   "metadata": {},
   "outputs": [
    {
     "data": {
      "text/html": [
       "<div>\n",
       "<style scoped>\n",
       "    .dataframe tbody tr th:only-of-type {\n",
       "        vertical-align: middle;\n",
       "    }\n",
       "\n",
       "    .dataframe tbody tr th {\n",
       "        vertical-align: top;\n",
       "    }\n",
       "\n",
       "    .dataframe thead th {\n",
       "        text-align: right;\n",
       "    }\n",
       "</style>\n",
       "<table border=\"1\" class=\"dataframe\">\n",
       "  <thead>\n",
       "    <tr style=\"text-align: right;\">\n",
       "      <th></th>\n",
       "      <th>Title</th>\n",
       "      <th>Company</th>\n",
       "      <th>Location</th>\n",
       "      <th>Salary</th>\n",
       "      <th>Job Type</th>\n",
       "      <th>Date Posted</th>\n",
       "      <th>Summary</th>\n",
       "    </tr>\n",
       "  </thead>\n",
       "  <tbody>\n",
       "    <tr>\n",
       "      <th>0</th>\n",
       "      <td>PO, Research &amp; Data Analyst</td>\n",
       "      <td>The Elevation Church</td>\n",
       "      <td>Nigeria</td>\n",
       "      <td>NaN</td>\n",
       "      <td>Full-time</td>\n",
       "      <td>PostedJust posted</td>\n",
       "      <td>Train volunteers on the use of M&amp;E frameworks ...</td>\n",
       "    </tr>\n",
       "    <tr>\n",
       "      <th>1</th>\n",
       "      <td>QA Tester - Intern</td>\n",
       "      <td>mDoc Healthcare</td>\n",
       "      <td>Lagos</td>\n",
       "      <td>NaN</td>\n",
       "      <td>NaN</td>\n",
       "      <td>EmployerActive 6 days ago</td>\n",
       "      <td>Advanced knowledge of data security and encryp...</td>\n",
       "    </tr>\n",
       "    <tr>\n",
       "      <th>2</th>\n",
       "      <td>Data Analyst - Healthcare</td>\n",
       "      <td>eMedicStore</td>\n",
       "      <td>Lagos</td>\n",
       "      <td>NaN</td>\n",
       "      <td>NaN</td>\n",
       "      <td>EmployerActive 5 days ago</td>\n",
       "      <td>Implement new data analysis methodologies and ...</td>\n",
       "    </tr>\n",
       "    <tr>\n",
       "      <th>3</th>\n",
       "      <td>HR Analyst</td>\n",
       "      <td>Jobrole Consulting Limited</td>\n",
       "      <td>Ikeja</td>\n",
       "      <td>₦150,000 - ₦200,000 a month</td>\n",
       "      <td>Full-time</td>\n",
       "      <td>PostedPosted 2 days ago</td>\n",
       "      <td>Analyze and interpret data to generate actiona...</td>\n",
       "    </tr>\n",
       "    <tr>\n",
       "      <th>4</th>\n",
       "      <td>Business Intelligence Analyst</td>\n",
       "      <td>TSL Metroline Limited</td>\n",
       "      <td>Lagos</td>\n",
       "      <td>NaN</td>\n",
       "      <td>NaN</td>\n",
       "      <td>PostedPosted 1 day ago</td>\n",
       "      <td>Analyse business information/ data to identify...</td>\n",
       "    </tr>\n",
       "  </tbody>\n",
       "</table>\n",
       "</div>"
      ],
      "text/plain": [
       "                           Title                     Company Location  \\\n",
       "0    PO, Research & Data Analyst        The Elevation Church  Nigeria   \n",
       "1             QA Tester - Intern             mDoc Healthcare    Lagos   \n",
       "2      Data Analyst - Healthcare                 eMedicStore    Lagos   \n",
       "3                     HR Analyst  Jobrole Consulting Limited    Ikeja   \n",
       "4  Business Intelligence Analyst       TSL Metroline Limited    Lagos   \n",
       "\n",
       "                        Salary   Job Type                Date Posted  \\\n",
       "0                          NaN  Full-time          PostedJust posted   \n",
       "1                          NaN        NaN  EmployerActive 6 days ago   \n",
       "2                          NaN        NaN  EmployerActive 5 days ago   \n",
       "3  ₦150,000 - ₦200,000 a month  Full-time    PostedPosted 2 days ago   \n",
       "4                          NaN        NaN     PostedPosted 1 day ago   \n",
       "\n",
       "                                             Summary  \n",
       "0  Train volunteers on the use of M&E frameworks ...  \n",
       "1  Advanced knowledge of data security and encryp...  \n",
       "2  Implement new data analysis methodologies and ...  \n",
       "3  Analyze and interpret data to generate actiona...  \n",
       "4  Analyse business information/ data to identify...  "
      ]
     },
     "execution_count": 8,
     "metadata": {},
     "output_type": "execute_result"
    }
   ],
   "source": [
    "# Print first rows so we have an idea about our data\n",
    "df.head()"
   ]
  },
  {
   "cell_type": "code",
   "execution_count": 9,
   "metadata": {},
   "outputs": [
    {
     "name": "stdout",
     "output_type": "stream",
     "text": [
      "<class 'pandas.core.frame.DataFrame'>\n",
      "RangeIndex: 203 entries, 0 to 202\n",
      "Data columns (total 7 columns):\n",
      " #   Column       Non-Null Count  Dtype \n",
      "---  ------       --------------  ----- \n",
      " 0   Title        203 non-null    object\n",
      " 1   Company      200 non-null    object\n",
      " 2   Location     203 non-null    object\n",
      " 3   Salary       15 non-null     object\n",
      " 4   Job Type     101 non-null    object\n",
      " 5   Date Posted  203 non-null    object\n",
      " 6   Summary      203 non-null    object\n",
      "dtypes: object(7)\n",
      "memory usage: 11.2+ KB\n"
     ]
    }
   ],
   "source": [
    "# Getting more info\n",
    "df.info()"
   ]
  },
  {
   "attachments": {},
   "cell_type": "markdown",
   "metadata": {},
   "source": [
    "The Dtypes do not make sense, we should change the format of some of them."
   ]
  },
  {
   "cell_type": "code",
   "execution_count": 10,
   "metadata": {},
   "outputs": [
    {
     "data": {
      "text/plain": [
       "Title            0\n",
       "Company          3\n",
       "Location         0\n",
       "Salary         188\n",
       "Job Type       102\n",
       "Date Posted      0\n",
       "Summary          0\n",
       "dtype: int64"
      ]
     },
     "execution_count": 10,
     "metadata": {},
     "output_type": "execute_result"
    }
   ],
   "source": [
    "# Check for null values\n",
    "df.isnull().sum()"
   ]
  },
  {
   "attachments": {},
   "cell_type": "markdown",
   "metadata": {},
   "source": [
    "We can either drop the rows with missing values or fill them. Let's start with the easy ones."
   ]
  },
  {
   "cell_type": "code",
   "execution_count": 11,
   "metadata": {},
   "outputs": [],
   "source": [
    "df['Company'].fillna('Unknown', inplace=True)\n",
    "df['Job Type'].fillna('Not Specified', inplace=True)"
   ]
  },
  {
   "attachments": {},
   "cell_type": "markdown",
   "metadata": {},
   "source": [
    "Now, for the \"Salary\" column, we can either replace them with a placeholder \"Not Disclosed\", with the median salary of the dataset or drop them.\n",
    "There's a big reason not to drop them:\n",
    "- There are 288/203 missing values in this column\n",
    "\n",
    "I'd say there's a good reason to put a placeholder here and call it a day. But for the sake of the exercise and practice, which is mostly what this project is for me, I'm going to convert everything to float and apply the median."
   ]
  },
  {
   "cell_type": "code",
   "execution_count": 12,
   "metadata": {},
   "outputs": [
    {
     "data": {
      "text/plain": [
       "array([nan, '₦150,000 - ₦200,000 a month', '₦100,000 - ₦150,000 a month',\n",
       "       '₦200,000 a month', '₦70,000 - ₦150,000 a month',\n",
       "       '₦90,000 - ₦130,000 a month', '₦300,000 - ₦350,000 a month',\n",
       "       '₦450,000 - ₦600,000 a month', '₦200,000 - ₦250,000 a month',\n",
       "       '₦220,000 a month', '₦60,000 - ₦80,000 a month'], dtype=object)"
      ]
     },
     "execution_count": 12,
     "metadata": {},
     "output_type": "execute_result"
    }
   ],
   "source": [
    "# Check values so we have a more accurate idea about our data\n",
    "df['Salary'].unique()"
   ]
  },
  {
   "cell_type": "code",
   "execution_count": 13,
   "metadata": {},
   "outputs": [],
   "source": [
    "# Convert salary from str to float\n",
    "def convert_salary(salary_col):\n",
    "    if pd.isna(salary_col):\n",
    "        return np.nan\n",
    "    \n",
    "    # Extract numeric data\n",
    "    numbers = re.findall(r'\\d+', salary_col.replace(',',''))\n",
    "    if len(numbers) == 1:\n",
    "        return float(numbers[0])\n",
    "    elif len(numbers) == 2:\n",
    "        return (float(numbers[0])+ float(numbers[1])) / 2\n",
    "    else:\n",
    "        return np.nan\n",
    "    \n",
    "# Apply function over our data\n",
    "df['Salary'] = df['Salary'].apply(convert_salary)\n",
    "\n",
    "# Fill nulls with mean\n",
    "mean_salary = df['Salary'].mean()\n",
    "df['Salary'].fillna(mean_salary, inplace=True)"
   ]
  },
  {
   "cell_type": "code",
   "execution_count": 14,
   "metadata": {},
   "outputs": [
    {
     "data": {
      "text/html": [
       "<div>\n",
       "<style scoped>\n",
       "    .dataframe tbody tr th:only-of-type {\n",
       "        vertical-align: middle;\n",
       "    }\n",
       "\n",
       "    .dataframe tbody tr th {\n",
       "        vertical-align: top;\n",
       "    }\n",
       "\n",
       "    .dataframe thead th {\n",
       "        text-align: right;\n",
       "    }\n",
       "</style>\n",
       "<table border=\"1\" class=\"dataframe\">\n",
       "  <thead>\n",
       "    <tr style=\"text-align: right;\">\n",
       "      <th></th>\n",
       "      <th>Title</th>\n",
       "      <th>Company</th>\n",
       "      <th>Location</th>\n",
       "      <th>Salary</th>\n",
       "      <th>Job Type</th>\n",
       "      <th>Date Posted</th>\n",
       "      <th>Summary</th>\n",
       "    </tr>\n",
       "  </thead>\n",
       "  <tbody>\n",
       "    <tr>\n",
       "      <th>0</th>\n",
       "      <td>PO, Research &amp; Data Analyst</td>\n",
       "      <td>The Elevation Church</td>\n",
       "      <td>Nigeria</td>\n",
       "      <td>190000.0</td>\n",
       "      <td>Full-time</td>\n",
       "      <td>PostedJust posted</td>\n",
       "      <td>Train volunteers on the use of M&amp;E frameworks ...</td>\n",
       "    </tr>\n",
       "    <tr>\n",
       "      <th>1</th>\n",
       "      <td>QA Tester - Intern</td>\n",
       "      <td>mDoc Healthcare</td>\n",
       "      <td>Lagos</td>\n",
       "      <td>190000.0</td>\n",
       "      <td>Not Specified</td>\n",
       "      <td>EmployerActive 6 days ago</td>\n",
       "      <td>Advanced knowledge of data security and encryp...</td>\n",
       "    </tr>\n",
       "    <tr>\n",
       "      <th>2</th>\n",
       "      <td>Data Analyst - Healthcare</td>\n",
       "      <td>eMedicStore</td>\n",
       "      <td>Lagos</td>\n",
       "      <td>190000.0</td>\n",
       "      <td>Not Specified</td>\n",
       "      <td>EmployerActive 5 days ago</td>\n",
       "      <td>Implement new data analysis methodologies and ...</td>\n",
       "    </tr>\n",
       "    <tr>\n",
       "      <th>3</th>\n",
       "      <td>HR Analyst</td>\n",
       "      <td>Jobrole Consulting Limited</td>\n",
       "      <td>Ikeja</td>\n",
       "      <td>175000.0</td>\n",
       "      <td>Full-time</td>\n",
       "      <td>PostedPosted 2 days ago</td>\n",
       "      <td>Analyze and interpret data to generate actiona...</td>\n",
       "    </tr>\n",
       "    <tr>\n",
       "      <th>4</th>\n",
       "      <td>Business Intelligence Analyst</td>\n",
       "      <td>TSL Metroline Limited</td>\n",
       "      <td>Lagos</td>\n",
       "      <td>190000.0</td>\n",
       "      <td>Not Specified</td>\n",
       "      <td>PostedPosted 1 day ago</td>\n",
       "      <td>Analyse business information/ data to identify...</td>\n",
       "    </tr>\n",
       "  </tbody>\n",
       "</table>\n",
       "</div>"
      ],
      "text/plain": [
       "                           Title                     Company Location  \\\n",
       "0    PO, Research & Data Analyst        The Elevation Church  Nigeria   \n",
       "1             QA Tester - Intern             mDoc Healthcare    Lagos   \n",
       "2      Data Analyst - Healthcare                 eMedicStore    Lagos   \n",
       "3                     HR Analyst  Jobrole Consulting Limited    Ikeja   \n",
       "4  Business Intelligence Analyst       TSL Metroline Limited    Lagos   \n",
       "\n",
       "     Salary       Job Type                Date Posted  \\\n",
       "0  190000.0      Full-time          PostedJust posted   \n",
       "1  190000.0  Not Specified  EmployerActive 6 days ago   \n",
       "2  190000.0  Not Specified  EmployerActive 5 days ago   \n",
       "3  175000.0      Full-time    PostedPosted 2 days ago   \n",
       "4  190000.0  Not Specified     PostedPosted 1 day ago   \n",
       "\n",
       "                                             Summary  \n",
       "0  Train volunteers on the use of M&E frameworks ...  \n",
       "1  Advanced knowledge of data security and encryp...  \n",
       "2  Implement new data analysis methodologies and ...  \n",
       "3  Analyze and interpret data to generate actiona...  \n",
       "4  Analyse business information/ data to identify...  "
      ]
     },
     "execution_count": 14,
     "metadata": {},
     "output_type": "execute_result"
    }
   ],
   "source": [
    "# Check data after all the changes\n",
    "df.head()"
   ]
  },
  {
   "attachments": {},
   "cell_type": "markdown",
   "metadata": {},
   "source": [
    "Now we can start focusing on cleaning the \"Date Posted\" column."
   ]
  },
  {
   "cell_type": "code",
   "execution_count": 15,
   "metadata": {},
   "outputs": [
    {
     "data": {
      "text/plain": [
       "array(['PostedJust posted', 'EmployerActive 6 days ago',\n",
       "       'EmployerActive 5 days ago', 'PostedPosted 2 days ago',\n",
       "       'PostedPosted 1 day ago', 'PostedPosted 6 days ago',\n",
       "       'PostedPosted 30+ days ago', 'PostedPosted 26 days ago',\n",
       "       'PostedPosted 12 days ago', 'EmployerActive 24 days ago',\n",
       "       'EmployerActive 7 days ago', 'PostedPosted 7 days ago',\n",
       "       'EmployerActive 19 days ago', 'PostedPosted 18 days ago',\n",
       "       'PostedPosted 25 days ago', 'PostedPosted 13 days ago',\n",
       "       'PostedPosted 19 days ago', 'PostedPosted 20 days ago',\n",
       "       'PostedPosted 8 days ago', 'PostedPosted 14 days ago',\n",
       "       'PostedPosted 11 days ago', 'PostedPosted 4 days ago',\n",
       "       'PostedToday', 'PostedPosted 29 days ago',\n",
       "       'EmployerActive 20 days ago', 'PostedPosted 28 days ago',\n",
       "       'PostedPosted 10 days ago', 'PostedPosted 21 days ago',\n",
       "       'PostedPosted 27 days ago', 'EmployerActive 15 days ago',\n",
       "       'PostedPosted 15 days ago', 'PostedPosted 3 days ago',\n",
       "       'EmployerActive 8 days ago', 'PostedPosted 9 days ago',\n",
       "       'EmployerActive 12 days ago', 'PostedPosted 16 days ago',\n",
       "       'PostedPosted 22 days ago', 'EmployerActive 4 days ago',\n",
       "       'EmployerActive 9 days ago'], dtype=object)"
      ]
     },
     "execution_count": 15,
     "metadata": {},
     "output_type": "execute_result"
    }
   ],
   "source": [
    "# Check values so we have a more accurate idea about our data\n",
    "df['Date Posted'].unique()"
   ]
  },
  {
   "attachments": {},
   "cell_type": "markdown",
   "metadata": {},
   "source": [
    "We can see there's 3 types: \"Just Posted\", \"Today\" and \"X days ago\". We'll need to format it to datetime"
   ]
  },
  {
   "cell_type": "code",
   "execution_count": 16,
   "metadata": {},
   "outputs": [],
   "source": [
    "# Convert date from str to datetime\n",
    "def convert_date(date_col):\n",
    "    if pd.isna(date_col):\n",
    "        return None\n",
    "    \n",
    "    date_col = date_col.lower()\n",
    "    \n",
    "    # Convert to datetime\n",
    "    if \"just posted\" in date_col:\n",
    "        return datetime.now()\n",
    "    elif \"today\" in date_col:\n",
    "        return datetime.now()\n",
    "    elif \"days ago\" in date_col:\n",
    "        days_ago = int(re.findall(r'\\d+', date_col)[0])\n",
    "        return datetime.now() - timedelta(days=days_ago)\n",
    "    else:\n",
    "        return pd.to_datetime(date_col, errors='coerce')\n",
    "    \n",
    "# Apply function over our data    \n",
    "df['Date Posted'] = df['Date Posted'].apply(convert_date)    "
   ]
  },
  {
   "cell_type": "code",
   "execution_count": 17,
   "metadata": {},
   "outputs": [
    {
     "data": {
      "text/html": [
       "<div>\n",
       "<style scoped>\n",
       "    .dataframe tbody tr th:only-of-type {\n",
       "        vertical-align: middle;\n",
       "    }\n",
       "\n",
       "    .dataframe tbody tr th {\n",
       "        vertical-align: top;\n",
       "    }\n",
       "\n",
       "    .dataframe thead th {\n",
       "        text-align: right;\n",
       "    }\n",
       "</style>\n",
       "<table border=\"1\" class=\"dataframe\">\n",
       "  <thead>\n",
       "    <tr style=\"text-align: right;\">\n",
       "      <th></th>\n",
       "      <th>Title</th>\n",
       "      <th>Company</th>\n",
       "      <th>Location</th>\n",
       "      <th>Salary</th>\n",
       "      <th>Job Type</th>\n",
       "      <th>Date Posted</th>\n",
       "      <th>Summary</th>\n",
       "    </tr>\n",
       "  </thead>\n",
       "  <tbody>\n",
       "    <tr>\n",
       "      <th>0</th>\n",
       "      <td>PO, Research &amp; Data Analyst</td>\n",
       "      <td>The Elevation Church</td>\n",
       "      <td>Nigeria</td>\n",
       "      <td>190000.0</td>\n",
       "      <td>Full-time</td>\n",
       "      <td>2024-06-19 16:52:19.808142</td>\n",
       "      <td>Train volunteers on the use of M&amp;E frameworks ...</td>\n",
       "    </tr>\n",
       "    <tr>\n",
       "      <th>1</th>\n",
       "      <td>QA Tester - Intern</td>\n",
       "      <td>mDoc Healthcare</td>\n",
       "      <td>Lagos</td>\n",
       "      <td>190000.0</td>\n",
       "      <td>Not Specified</td>\n",
       "      <td>2024-06-13 16:52:19.808142</td>\n",
       "      <td>Advanced knowledge of data security and encryp...</td>\n",
       "    </tr>\n",
       "    <tr>\n",
       "      <th>2</th>\n",
       "      <td>Data Analyst - Healthcare</td>\n",
       "      <td>eMedicStore</td>\n",
       "      <td>Lagos</td>\n",
       "      <td>190000.0</td>\n",
       "      <td>Not Specified</td>\n",
       "      <td>2024-06-14 16:52:19.808142</td>\n",
       "      <td>Implement new data analysis methodologies and ...</td>\n",
       "    </tr>\n",
       "    <tr>\n",
       "      <th>3</th>\n",
       "      <td>HR Analyst</td>\n",
       "      <td>Jobrole Consulting Limited</td>\n",
       "      <td>Ikeja</td>\n",
       "      <td>175000.0</td>\n",
       "      <td>Full-time</td>\n",
       "      <td>2024-06-17 16:52:19.808142</td>\n",
       "      <td>Analyze and interpret data to generate actiona...</td>\n",
       "    </tr>\n",
       "    <tr>\n",
       "      <th>4</th>\n",
       "      <td>Business Intelligence Analyst</td>\n",
       "      <td>TSL Metroline Limited</td>\n",
       "      <td>Lagos</td>\n",
       "      <td>190000.0</td>\n",
       "      <td>Not Specified</td>\n",
       "      <td>NaT</td>\n",
       "      <td>Analyse business information/ data to identify...</td>\n",
       "    </tr>\n",
       "  </tbody>\n",
       "</table>\n",
       "</div>"
      ],
      "text/plain": [
       "                           Title                     Company Location  \\\n",
       "0    PO, Research & Data Analyst        The Elevation Church  Nigeria   \n",
       "1             QA Tester - Intern             mDoc Healthcare    Lagos   \n",
       "2      Data Analyst - Healthcare                 eMedicStore    Lagos   \n",
       "3                     HR Analyst  Jobrole Consulting Limited    Ikeja   \n",
       "4  Business Intelligence Analyst       TSL Metroline Limited    Lagos   \n",
       "\n",
       "     Salary       Job Type                Date Posted  \\\n",
       "0  190000.0      Full-time 2024-06-19 16:52:19.808142   \n",
       "1  190000.0  Not Specified 2024-06-13 16:52:19.808142   \n",
       "2  190000.0  Not Specified 2024-06-14 16:52:19.808142   \n",
       "3  175000.0      Full-time 2024-06-17 16:52:19.808142   \n",
       "4  190000.0  Not Specified                        NaT   \n",
       "\n",
       "                                             Summary  \n",
       "0  Train volunteers on the use of M&E frameworks ...  \n",
       "1  Advanced knowledge of data security and encryp...  \n",
       "2  Implement new data analysis methodologies and ...  \n",
       "3  Analyze and interpret data to generate actiona...  \n",
       "4  Analyse business information/ data to identify...  "
      ]
     },
     "execution_count": 17,
     "metadata": {},
     "output_type": "execute_result"
    }
   ],
   "source": [
    "# Check data after changes\n",
    "df.head()"
   ]
  },
  {
   "attachments": {},
   "cell_type": "markdown",
   "metadata": {},
   "source": [
    "Looks good. Time to look for duplicates and remove them."
   ]
  },
  {
   "cell_type": "code",
   "execution_count": 18,
   "metadata": {},
   "outputs": [
    {
     "name": "stdout",
     "output_type": "stream",
     "text": [
      "df.duplicated().sum() = 3\n",
      "clean_df.duplicated().sum() = 0\n"
     ]
    }
   ],
   "source": [
    "# Check for duplicates\n",
    "print(f\"{df.duplicated().sum() = }\")\n",
    "\n",
    "# Remove duplicates\n",
    "clean_df = df.drop_duplicates()\n",
    "\n",
    "print(f\"{clean_df.duplicated().sum() = }\")\n"
   ]
  },
  {
   "attachments": {},
   "cell_type": "markdown",
   "metadata": {},
   "source": [
    "We need to standarize the \"Summary\" column. Removing special characters and non-letters."
   ]
  },
  {
   "cell_type": "code",
   "execution_count": 21,
   "metadata": {},
   "outputs": [],
   "source": [
    "# Removes special characters and non-letters\n",
    "def clean_summary(summary_col):\n",
    "    return re.sub(r'[^a-zA-Z\\s]', '', summary_col).lower()\n",
    "\n",
    "# Apply function to our data\n",
    "df['Summary'] = df['Summary'].apply(clean_summary)\n"
   ]
  },
  {
   "cell_type": "code",
   "execution_count": 22,
   "metadata": {},
   "outputs": [
    {
     "data": {
      "text/html": [
       "<div>\n",
       "<style scoped>\n",
       "    .dataframe tbody tr th:only-of-type {\n",
       "        vertical-align: middle;\n",
       "    }\n",
       "\n",
       "    .dataframe tbody tr th {\n",
       "        vertical-align: top;\n",
       "    }\n",
       "\n",
       "    .dataframe thead th {\n",
       "        text-align: right;\n",
       "    }\n",
       "</style>\n",
       "<table border=\"1\" class=\"dataframe\">\n",
       "  <thead>\n",
       "    <tr style=\"text-align: right;\">\n",
       "      <th></th>\n",
       "      <th>Title</th>\n",
       "      <th>Company</th>\n",
       "      <th>Location</th>\n",
       "      <th>Salary</th>\n",
       "      <th>Job Type</th>\n",
       "      <th>Date Posted</th>\n",
       "      <th>Summary</th>\n",
       "    </tr>\n",
       "  </thead>\n",
       "  <tbody>\n",
       "    <tr>\n",
       "      <th>0</th>\n",
       "      <td>PO, Research &amp; Data Analyst</td>\n",
       "      <td>The Elevation Church</td>\n",
       "      <td>Nigeria</td>\n",
       "      <td>190000.0</td>\n",
       "      <td>Full-time</td>\n",
       "      <td>2024-06-19 16:52:19.808142</td>\n",
       "      <td>train volunteers on the use of me frameworks a...</td>\n",
       "    </tr>\n",
       "    <tr>\n",
       "      <th>1</th>\n",
       "      <td>QA Tester - Intern</td>\n",
       "      <td>mDoc Healthcare</td>\n",
       "      <td>Lagos</td>\n",
       "      <td>190000.0</td>\n",
       "      <td>Not Specified</td>\n",
       "      <td>2024-06-13 16:52:19.808142</td>\n",
       "      <td>advanced knowledge of data security and encryp...</td>\n",
       "    </tr>\n",
       "    <tr>\n",
       "      <th>2</th>\n",
       "      <td>Data Analyst - Healthcare</td>\n",
       "      <td>eMedicStore</td>\n",
       "      <td>Lagos</td>\n",
       "      <td>190000.0</td>\n",
       "      <td>Not Specified</td>\n",
       "      <td>2024-06-14 16:52:19.808142</td>\n",
       "      <td>implement new data analysis methodologies and ...</td>\n",
       "    </tr>\n",
       "    <tr>\n",
       "      <th>3</th>\n",
       "      <td>HR Analyst</td>\n",
       "      <td>Jobrole Consulting Limited</td>\n",
       "      <td>Ikeja</td>\n",
       "      <td>175000.0</td>\n",
       "      <td>Full-time</td>\n",
       "      <td>2024-06-17 16:52:19.808142</td>\n",
       "      <td>analyze and interpret data to generate actiona...</td>\n",
       "    </tr>\n",
       "    <tr>\n",
       "      <th>4</th>\n",
       "      <td>Business Intelligence Analyst</td>\n",
       "      <td>TSL Metroline Limited</td>\n",
       "      <td>Lagos</td>\n",
       "      <td>190000.0</td>\n",
       "      <td>Not Specified</td>\n",
       "      <td>NaT</td>\n",
       "      <td>analyse business information data to identify ...</td>\n",
       "    </tr>\n",
       "  </tbody>\n",
       "</table>\n",
       "</div>"
      ],
      "text/plain": [
       "                           Title                     Company Location  \\\n",
       "0    PO, Research & Data Analyst        The Elevation Church  Nigeria   \n",
       "1             QA Tester - Intern             mDoc Healthcare    Lagos   \n",
       "2      Data Analyst - Healthcare                 eMedicStore    Lagos   \n",
       "3                     HR Analyst  Jobrole Consulting Limited    Ikeja   \n",
       "4  Business Intelligence Analyst       TSL Metroline Limited    Lagos   \n",
       "\n",
       "     Salary       Job Type                Date Posted  \\\n",
       "0  190000.0      Full-time 2024-06-19 16:52:19.808142   \n",
       "1  190000.0  Not Specified 2024-06-13 16:52:19.808142   \n",
       "2  190000.0  Not Specified 2024-06-14 16:52:19.808142   \n",
       "3  175000.0      Full-time 2024-06-17 16:52:19.808142   \n",
       "4  190000.0  Not Specified                        NaT   \n",
       "\n",
       "                                             Summary  \n",
       "0  train volunteers on the use of me frameworks a...  \n",
       "1  advanced knowledge of data security and encryp...  \n",
       "2  implement new data analysis methodologies and ...  \n",
       "3  analyze and interpret data to generate actiona...  \n",
       "4  analyse business information data to identify ...  "
      ]
     },
     "execution_count": 22,
     "metadata": {},
     "output_type": "execute_result"
    }
   ],
   "source": [
    "# Check data after changes\n",
    "df.head()"
   ]
  },
  {
   "attachments": {},
   "cell_type": "markdown",
   "metadata": {},
   "source": [
    "Finally, we can save our data to a new \".csv\" for future analysis."
   ]
  },
  {
   "cell_type": "code",
   "execution_count": 23,
   "metadata": {},
   "outputs": [],
   "source": [
    "# Save cleaned data to a new csv\n",
    "df.to_csv(\"cleaned_job_data.csv\", index=False)\n"
   ]
  }
 ],
 "metadata": {
  "kernelspec": {
   "display_name": "tf_gpu",
   "language": "python",
   "name": "python3"
  },
  "language_info": {
   "codemirror_mode": {
    "name": "ipython",
    "version": 3
   },
   "file_extension": ".py",
   "mimetype": "text/x-python",
   "name": "python",
   "nbconvert_exporter": "python",
   "pygments_lexer": "ipython3",
   "version": "3.8.19"
  },
  "orig_nbformat": 4,
  "vscode": {
   "interpreter": {
    "hash": "b1014857e5f514609e0bfeb89ffc23db6865fa5617010c6981bd698468837496"
   }
  }
 },
 "nbformat": 4,
 "nbformat_minor": 2
}
